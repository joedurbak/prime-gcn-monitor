{
 "cells": [
  {
   "cell_type": "markdown",
   "source": [
    "# Observation Location Example"
   ],
   "metadata": {
    "collapsed": false,
    "pycharm": {
     "name": "#%% md\n"
    }
   }
  },
  {
   "cell_type": "code",
   "execution_count": 1,
   "outputs": [
    {
     "name": "stdout",
     "output_type": "stream",
     "text": [
      "/Users/jdurbak/PycharmProjects/prime-gcn-monitor\n",
      "MAX_ERROR_RADIUS 4.228035383967557 deg\n"
     ]
    }
   ],
   "source": [
    "from calculate_grid_location import generate_observation_csv_ra_dec"
   ],
   "metadata": {
    "collapsed": false,
    "pycharm": {
     "name": "#%%\n"
    }
   }
  },
  {
   "cell_type": "code",
   "execution_count": 2,
   "outputs": [
    {
     "name": "stdout",
     "output_type": "stream",
     "text": [
      "https://airmass.org/chart/obsid:salt/date:2024-10-30/object:gcnobject/ra:123.450007/dec:-12.345006/object:bulge/ra:262.116667/dec:-31.020197/object:bulge%202/ra:271.033125/dec:-27.400156/\n",
      "       distance  ra_offsets  dec_offsets\n",
      "12708   40.4994      2.1852     -38.3142\n",
      "12399   51.7572    -21.7170      30.0402\n",
      "12398   78.2262     48.1860      30.0402\n",
      "12091   98.7642      0.3696      98.3946\n",
      "12709  105.8064    -67.4922     -38.3142\n",
      "12707  110.1768     71.8626     -38.3142\n",
      "12400  121.6602    -91.6200      30.0402\n",
      "13018  132.6024     25.9338    -106.6686\n",
      "12397  148.1292    118.0890      30.0402\n",
      "13019  150.1884    -43.5198    -106.6686\n",
      "min_offset 5.55\n",
      "max_offset 35.45\n",
      "       Priority  BlockID Observer  ObjectName    ObjectType            RA  \\\n",
      "12399         0  P012400       OU  field12400  all_sky_grid  08:15:14.868   \n",
      "\n",
      "                 DEC  RAoffset  DECoffset  ROToffset  ... Images  \\\n",
      "12399  -12:50:44.412       0.0        0.0     172800  ...      1   \n",
      "\n",
      "      IntegrationTime Comment1  Comment2  distance  ra_offsets  dec_offsets  \\\n",
      "12399            10.0      NaN       NaN   51.7572     -21.717      30.0402   \n",
      "\n",
      "       ra_degrees  dec_degrees  chip  \n",
      "12399   123.81195    -12.84567     1  \n",
      "\n",
      "[1 rows x 26 columns]\n",
      "  filter1 filter2  total_exposure_time_seconds  exposure_time_per_frame\n",
      "0    Open       J                         1800                    60.00\n",
      "1    Open       H                         1800                    11.44\n",
      "None\n",
      "  Observer(PI institute)      GridType ObjectType FieldNumber     RA(h:m:s)     DEC(d:m:s)  RAoffset(\")  DECoffset(\")  ROToffset(°) Filter1 Filter2 DitherType  DitherRadius(\")  DitherPhase(°)  DitherTotal  Images  IntegrationTime(s)         PIName                     TargetName SpecificTime Priority                                     Comment\n",
      "0                   NASA  all_sky_grid        ToO  field12400  08:15:14.868  -12:50:44.412          0.0           0.0           0.0    Open       J     Random               90             0.0           30       1               60.00  NASA_ToO_team  well_localized_source_example                  High  ra_off:-21.72+dec_off:+30.04+C1+field12400\n",
      "1                   NASA  all_sky_grid        ToO  field12400  08:15:14.868  -12:50:44.412          0.0           0.0           0.0    Open       H     Random               90             0.0          157       1               11.44  NASA_ToO_team  well_localized_source_example                  High  ra_off:-21.72+dec_off:+30.04+C1+field12400\n",
      "Submit well_localized_source_example.csv observation file to https://docs.google.com/forms/d/e/1FAIpQLSeXhoZNJcR8_4zFdiFDUNi-Q2kV9oZuTB-PrJUWwrXBZCSgFQ/viewform\n"
     ]
    }
   ],
   "source": [
    "# simple point source example with decimal coordinates\n",
    "ra = 123.45\n",
    "dec = -12.345\n",
    "save_name = 'well_localized_source_example.csv'\n",
    "generate_observation_csv_ra_dec(ra, dec, save_name)"
   ],
   "metadata": {
    "collapsed": false,
    "pycharm": {
     "name": "#%%\n"
    }
   }
  },
  {
   "cell_type": "code",
   "execution_count": 3,
   "outputs": [
    {
     "name": "stdout",
     "output_type": "stream",
     "text": [
      "https://airmass.org/chart/obsid:salt/date:2024-10-30/object:gcnobject/ra:123.450007/dec:-12.345006/object:bulge/ra:262.116667/dec:-31.020197/object:bulge%202/ra:271.033125/dec:-27.400156/\n",
      "       distance  ra_offsets  dec_offsets\n",
      "12708   40.4994      2.1852     -38.3142\n",
      "12399   51.7572    -21.7170      30.0402\n",
      "12398   78.2262     48.1860      30.0402\n",
      "12091   98.7642      0.3696      98.3946\n",
      "12709  105.8064    -67.4922     -38.3142\n",
      "12707  110.1768     71.8626     -38.3142\n",
      "12400  121.6602    -91.6200      30.0402\n",
      "13018  132.6024     25.9338    -106.6686\n",
      "12397  148.1292    118.0890      30.0402\n",
      "13019  150.1884    -43.5198    -106.6686\n",
      "min_offset 15.5\n",
      "max_offset 25.5\n",
      "Empty DataFrame\n",
      "Columns: [Priority, BlockID, Observer, ObjectName, ObjectType, RA, DEC, RAoffset, DECoffset, ROToffset, Filter1, Filter2, DitherType, DitherRadius, DitherPhase, DitherTotal, Images, IntegrationTime, Comment1, Comment2, distance, ra_offsets, dec_offsets, ra_degrees, dec_degrees, chip]\n",
      "Index: []\n",
      "\n",
      "[0 rows x 26 columns]\n",
      "source is in the grid gaps, switching to offset grid\n",
      "         distance  ra_offsets  dec_offsets\n",
      "12399   11.507207     -2.7090      11.1990\n",
      "12708   60.802183     21.1938     -57.1554\n",
      "12398   66.565592     67.1940      11.1990\n",
      "12400   71.785932    -72.6114      11.1990\n",
      "12709   74.282609    -48.4836     -57.1554\n",
      "12091   81.763027     19.3776      79.5534\n",
      "12092   93.786566    -50.9802      79.5534\n",
      "12707  105.710895     90.8712     -57.1554\n",
      "12090  118.207033     89.7360      79.5534\n",
      "13019  127.790937    -24.5112    -125.5104\n",
      "min_offset 15.5\n",
      "max_offset 25.5\n",
      "Empty DataFrame\n",
      "Columns: [Priority, BlockID, Observer, ObjectName, ObjectType, RA, DEC, RAoffset, DECoffset, ROToffset, Filter1, Filter2, DitherType, DitherRadius, DitherPhase, DitherTotal, Images, IntegrationTime, Comment1, Comment2, distance, ra_offsets, dec_offsets, ra_degrees, dec_degrees, chip]\n",
      "Index: []\n",
      "\n",
      "[0 rows x 26 columns]\n",
      "source is in the grid gaps, going off grid\n",
      "  filter1 filter2  total_exposure_time_seconds  exposure_time_per_frame\n",
      "0    Open       J                         1800                    60.00\n",
      "1    Open       H                         1800                    11.44\n",
      "None\n",
      "  Observer(PI institute) GridType ObjectType FieldNumber         RA(h:m:s)          DEC(d:m:s)  RAoffset(\")  DECoffset(\")  ROToffset(°) Filter1 Filter2 DitherType  DitherRadius(\")  DitherPhase(°)  DitherTotal  Images  IntegrationTime(s)         PIName                                   TargetName SpecificTime Priority                                      Comment\n",
      "0                   NASA  no_grid        ToO              8:13:48.00157593  -12:20:42.02161991         1125          1125           0.0    Open       J     Random               90             0.0           30       1               60.00  NASA_ToO_team  small_error_radius_localized_source_example                  High  ra_off:+1125.00+dec_off:+1125.00+C3+no_grid\n",
      "1                   NASA  no_grid        ToO              8:13:48.00157593  -12:20:42.02161991         1125          1125           0.0    Open       H     Random               90             0.0          157       1               11.44  NASA_ToO_team  small_error_radius_localized_source_example                  High  ra_off:+1125.00+dec_off:+1125.00+C3+no_grid\n",
      "Submit small_error_radius_localized_source_example.csv observation file to https://docs.google.com/forms/d/e/1FAIpQLSeXhoZNJcR8_4zFdiFDUNi-Q2kV9oZuTB-PrJUWwrXBZCSgFQ/viewform\n"
     ]
    }
   ],
   "source": [
    "# point source example with slightly larger error radius\n",
    "\n",
    "ra = 123.45\n",
    "dec = -12.345\n",
    "error_radius = 10.0  # given in arcminutes\n",
    "save_name = 'small_error_radius_localized_source_example.csv'\n",
    "generate_observation_csv_ra_dec(ra, dec, save_name, point_source_radius=error_radius)"
   ],
   "metadata": {
    "collapsed": false,
    "pycharm": {
     "name": "#%%\n"
    }
   }
  },
  {
   "cell_type": "code",
   "execution_count": 4,
   "outputs": [
    {
     "name": "stdout",
     "output_type": "stream",
     "text": [
      "https://airmass.org/chart/obsid:salt/date:2024-10-30/object:gcnobject/ra:191.476258/dec:-12.582440/object:bulge/ra:262.116667/dec:-31.020197/object:bulge%202/ra:271.033125/dec:-27.400156/\n",
      "         distance  ra_offsets  dec_offsets\n",
      "12457   21.282667      5.4888    15.793867\n",
      "12767   79.768133    -27.2076   -52.560533\n",
      "12458   80.208067    -64.4142    15.793867\n",
      "12149   85.311067      1.1628    84.148267\n",
      "12456   91.185667     75.3918    15.793867\n",
      "12766   95.030333     42.4698   -52.560533\n",
      "13077  130.674533      9.7596  -120.914933\n",
      "12768  149.445533    -96.8850   -52.560533\n",
      "12459  150.110467   -134.3166    15.793867\n",
      "12150  153.343867    -69.1956    84.148267\n",
      "min_offset 15.5\n",
      "max_offset 25.5\n",
      "Empty DataFrame\n",
      "Columns: [Priority, BlockID, Observer, ObjectName, ObjectType, RA, DEC, RAoffset, DECoffset, ROToffset, Filter1, Filter2, DitherType, DitherRadius, DitherPhase, DitherTotal, Images, IntegrationTime, Comment1, Comment2, distance, ra_offsets, dec_offsets, ra_degrees, dec_degrees, chip]\n",
      "Index: []\n",
      "\n",
      "[0 rows x 26 columns]\n",
      "source is in the grid gaps, switching to offset grid\n",
      "         distance  ra_offsets  dec_offsets\n",
      "12457   24.104818     24.4974    -3.047333\n",
      "12458   44.424124    -45.4056    -3.047333\n",
      "12149   68.197332     20.1708    65.307067\n",
      "12767   71.850738     -8.1990   -71.401733\n",
      "12150   81.570550    -50.1870    65.307067\n",
      "12456   92.192582     94.4004    -3.047333\n",
      "12766   93.352050     61.4784   -71.401733\n",
      "12768  104.408203    -77.8764   -71.401733\n",
      "12148  109.715801     90.5292    65.307067\n",
      "12459  112.591415   -115.3086    -3.047333\n",
      "min_offset 15.5\n",
      "max_offset 25.5\n",
      "Empty DataFrame\n",
      "Columns: [Priority, BlockID, Observer, ObjectName, ObjectType, RA, DEC, RAoffset, DECoffset, ROToffset, Filter1, Filter2, DitherType, DitherRadius, DitherPhase, DitherTotal, Images, IntegrationTime, Comment1, Comment2, distance, ra_offsets, dec_offsets, ra_degrees, dec_degrees, chip]\n",
      "Index: []\n",
      "\n",
      "[0 rows x 26 columns]\n",
      "source is in the grid gaps, going off grid\n",
      "  filter1 filter2  total_exposure_time_seconds  exposure_time_per_frame\n",
      "0    Open       J                         1800                    60.00\n",
      "1    Open       H                         1800                    11.44\n",
      "None\n",
      "  Observer(PI institute) GridType ObjectType FieldNumber          RA(h:m:s)          DEC(d:m:s)  RAoffset(\")  DECoffset(\")  ROToffset(°) Filter1 Filter2 DitherType  DitherRadius(\")  DitherPhase(°)  DitherTotal  Images  IntegrationTime(s)         PIName              TargetName SpecificTime Priority                                      Comment\n",
      "0                   NASA  no_grid        ToO              12:45:54.30184381  -12:34:56.78495873         1125          1125           0.0    Open       J     Random               90             0.0           30       1               60.00  NASA_ToO_team  hms_dms_source_example                  High  ra_off:+1125.00+dec_off:+1125.00+C3+no_grid\n",
      "1                   NASA  no_grid        ToO              12:45:54.30184381  -12:34:56.78495873         1125          1125           0.0    Open       H     Random               90             0.0          157       1               11.44  NASA_ToO_team  hms_dms_source_example                  High  ra_off:+1125.00+dec_off:+1125.00+C3+no_grid\n",
      "Submit hms_dms_source_example.csv observation file to https://docs.google.com/forms/d/e/1FAIpQLSeXhoZNJcR8_4zFdiFDUNi-Q2kV9oZuTB-PrJUWwrXBZCSgFQ/viewform\n"
     ]
    }
   ],
   "source": [
    "# point source example using hms dms coordinates\n",
    "\n",
    "ra = '12:45:54.3'  # could have also been '123h45m54.3s'\n",
    "dec = '-12:34:56.78'  # could have also been '-12d34m56.78s'\n",
    "error_radius = 10.0  # given in arcminutes\n",
    "save_name = 'hms_dms_source_example.csv'\n",
    "generate_observation_csv_ra_dec(ra, dec, save_name, point_source_radius=error_radius)"
   ],
   "metadata": {
    "collapsed": false,
    "pycharm": {
     "name": "#%%\n"
    }
   }
  },
  {
   "cell_type": "code",
   "execution_count": 5,
   "outputs": [
    {
     "name": "stdout",
     "output_type": "stream",
     "text": [
      "https://airmass.org/chart/obsid:salt/date:2024-10-30/object:gcnobject/ra:191.476258/dec:-12.582440/object:bulge/ra:262.116667/dec:-31.020197/object:bulge%202/ra:271.033125/dec:-27.400156/\n",
      "  filter1 filter2  total_exposure_time_seconds  exposure_time_per_frame\n",
      "0    Open       J                         1800                    60.00\n",
      "1    Open       H                         1800                    11.44\n",
      "None\n",
      "  Observer(PI institute)      GridType ObjectType FieldNumber          RA(h:m:s)          DEC(d:m:s)  RAoffset(\")  DECoffset(\")  ROToffset(°) Filter1 Filter2 DitherType  DitherRadius(\")  DitherPhase(°)  DitherTotal  Images  IntegrationTime(s)         PIName TargetName SpecificTime Priority                                      Comment\n",
      "0                   NASA  all_sky_grid        ToO      field1  12:45:54.30184381  -12:34:56.78495873         1125          1125           0.0    Open       J     Random               90             0.0           30       1               60.00  NASA_ToO_team   grb_test                  High  ra_off:+1125.00+dec_off:+1125.00+C3+no_grid\n",
      "1                   NASA  all_sky_grid        ToO      field2  12:45:54.30184381  -12:34:56.78495873         1125          1125           0.0    Open       H     Random               90             0.0          157       1               11.44  NASA_ToO_team   grb_test                  High  ra_off:+1125.00+dec_off:+1125.00+C3+no_grid\n",
      "Submit centered_source_example.csv observation file to https://docs.google.com/forms/d/e/1FAIpQLSeXhoZNJcR8_4zFdiFDUNi-Q2kV9oZuTB-PrJUWwrXBZCSgFQ/viewform\n"
     ]
    }
   ],
   "source": [
    "# example for when you want to just put the target in the middle of the detector\n",
    "\n",
    "ra = '12:45:54.3'  # could have also been '123h45m54.3s'\n",
    "dec = '-12:34:56.78'  # could have also been '-12d34m56.78s'\n",
    "save_name = 'centered_source_example.csv'\n",
    "target_name = 'grb_test'  # if you want the target to be called something different than the save_name, you can use the target_name argument\n",
    "generate_observation_csv_ra_dec(ra, dec, save_name, force_centered=True, target_name=target_name)"
   ],
   "metadata": {
    "collapsed": false,
    "pycharm": {
     "name": "#%%\n"
    }
   }
  },
  {
   "cell_type": "code",
   "execution_count": 6,
   "outputs": [
    {
     "name": "stdout",
     "output_type": "stream",
     "text": [
      "https://airmass.org/chart/obsid:salt/date:2024-10-30/object:gcnobject/ra:123.450007/dec:-12.345006/object:bulge/ra:262.116667/dec:-31.020197/object:bulge%202/ra:271.033125/dec:-27.400156/\n",
      "       Priority  BlockID Observer  ObjectName    ObjectType             RA  \\\n",
      "12399         0  P012400       OU  field12400  all_sky_grid   08:15:14.868   \n",
      "12708         0  P012709       OU  field12709  all_sky_grid  08:13:39.2592   \n",
      "12398         0  P012399       OU  field12399  all_sky_grid   08:10:35.256   \n",
      "12709         0  P012710       OU  field12710  all_sky_grid  08:18:17.9688   \n",
      "12707         0  P012708       OU  field12708  all_sky_grid  08:09:00.5496   \n",
      "12400         0  P012401       OU  field12401  all_sky_grid    08:19:54.48   \n",
      "12091         0  P012092       OU  field12092  all_sky_grid  08:13:46.5216   \n",
      "13018         0  P013019       OU  field13019  all_sky_grid  08:12:04.2648   \n",
      "13019         0  P013020       OU  field13020  all_sky_grid  08:16:42.0792   \n",
      "12397         0  P012398       OU  field12398  all_sky_grid   08:05:55.644   \n",
      "12092         0  P012093       OU  field12093  all_sky_grid  08:18:27.9552   \n",
      "12090         0  P012091       OU  field12091  all_sky_grid   08:09:05.088   \n",
      "12710         0  P012711       OU  field12711  all_sky_grid  08:22:56.6784   \n",
      "13017         0  P013018       OU  field13018  all_sky_grid  08:07:26.4504   \n",
      "12706         0  P012707       OU  field12707  all_sky_grid    08:04:21.84   \n",
      "13020         0  P013021       OU  field13021  all_sky_grid  08:21:19.8912   \n",
      "12401         0  P012402       OU  field12402  all_sky_grid   08:24:34.092   \n",
      "11785         0  P011786       OU  field11786  all_sky_grid  08:15:23.0928   \n",
      "12093         0  P012094       OU  field12094  all_sky_grid  08:23:09.3888   \n",
      "12089         0  P012090       OU  field12090  all_sky_grid  08:04:23.6544   \n",
      "11784         0  P011785       OU  field11785  all_sky_grid    08:10:40.74   \n",
      "13330         0  P013331       OU  field13331  all_sky_grid  08:15:06.8016   \n",
      "13329         0  P013330       OU  field13330  all_sky_grid    08:10:29.88   \n",
      "12396         0  P012397       OU  field12397  all_sky_grid  08:01:16.0344   \n",
      "11786         0  P011787       OU  field11787  all_sky_grid  08:20:05.4456   \n",
      "13016         0  P013017       OU  field13017  all_sky_grid  08:02:48.6384   \n",
      "13331         0  P013332       OU  field13332  all_sky_grid  08:19:43.7256   \n",
      "11783         0  P011784       OU  field11784  all_sky_grid  08:05:58.3872   \n",
      "12711         0  P012712       OU  field12712  all_sky_grid   08:27:35.388   \n",
      "13021         0  P013022       OU  field13022  all_sky_grid  08:25:57.7056   \n",
      "12705         0  P012706       OU  field12706  all_sky_grid  07:59:43.1304   \n",
      "13328         0  P013329       OU  field13329  all_sky_grid   08:05:52.956   \n",
      "12094         0  P012095       OU  field12095  all_sky_grid  08:27:50.8224   \n",
      "12402         0  P012403       OU  field12403  all_sky_grid   08:29:13.704   \n",
      "12088         0  P012089       OU  field12089  all_sky_grid  07:59:42.2232   \n",
      "11787         0  P011788       OU  field11788  all_sky_grid  08:24:47.7984   \n",
      "13332         0  P013333       OU  field13333  all_sky_grid  08:24:20.6496   \n",
      "11480         0  P011481       OU  field11481  all_sky_grid   08:13:53.928   \n",
      "\n",
      "                 DEC  RAoffset  DECoffset  ROToffset  ... Images  \\\n",
      "12399  -12:50:44.412       0.0        0.0     172800  ...      1   \n",
      "12708  -11:42:23.148       0.0        0.0     172800  ...      1   \n",
      "12398  -12:50:44.412       0.0        0.0     172800  ...      1   \n",
      "12709  -11:42:23.148       0.0        0.0     172800  ...      1   \n",
      "12707  -11:42:23.148       0.0        0.0     172800  ...      1   \n",
      "12400  -12:50:44.412       0.0        0.0     172800  ...      1   \n",
      "12091  -13:59:05.676       0.0        0.0     172800  ...      1   \n",
      "13018  -10:34:01.884       0.0        0.0     172800  ...      1   \n",
      "13019  -10:34:01.884       0.0        0.0     172800  ...      1   \n",
      "12397  -12:50:44.412       0.0        0.0     172800  ...      1   \n",
      "12092  -13:59:05.676       0.0        0.0     172800  ...      1   \n",
      "12090  -13:59:05.676       0.0        0.0     172800  ...      1   \n",
      "12710  -11:42:23.148       0.0        0.0     172800  ...      1   \n",
      "13017  -10:34:01.884       0.0        0.0     172800  ...      1   \n",
      "12706  -11:42:23.148       0.0        0.0     172800  ...      1   \n",
      "13020  -10:34:01.884       0.0        0.0     172800  ...      1   \n",
      "12401  -12:50:44.412       0.0        0.0     172800  ...      1   \n",
      "11785   -15:07:26.94       0.0        0.0     172800  ...      1   \n",
      "12093  -13:59:05.676       0.0        0.0     172800  ...      1   \n",
      "12089  -13:59:05.676       0.0        0.0     172800  ...      1   \n",
      "11784   -15:07:26.94       0.0        0.0     172800  ...      1   \n",
      "13330   -09:25:40.62       0.0        0.0     172800  ...      1   \n",
      "13329   -09:25:40.62       0.0        0.0     172800  ...      1   \n",
      "12396  -12:50:44.412       0.0        0.0     172800  ...      1   \n",
      "11786   -15:07:26.94       0.0        0.0     172800  ...      1   \n",
      "13016  -10:34:01.884       0.0        0.0     172800  ...      1   \n",
      "13331   -09:25:40.62       0.0        0.0     172800  ...      1   \n",
      "11783   -15:07:26.94       0.0        0.0     172800  ...      1   \n",
      "12711  -11:42:23.148       0.0        0.0     172800  ...      1   \n",
      "13021  -10:34:01.884       0.0        0.0     172800  ...      1   \n",
      "12705  -11:42:23.148       0.0        0.0     172800  ...      1   \n",
      "13328   -09:25:40.62       0.0        0.0     172800  ...      1   \n",
      "12094  -13:59:05.676       0.0        0.0     172800  ...      1   \n",
      "12402  -12:50:44.412       0.0        0.0     172800  ...      1   \n",
      "12088  -13:59:05.676       0.0        0.0     172800  ...      1   \n",
      "11787   -15:07:26.94       0.0        0.0     172800  ...      1   \n",
      "13332   -09:25:40.62       0.0        0.0     172800  ...      1   \n",
      "11480  -16:15:48.204       0.0        0.0     172800  ...      1   \n",
      "\n",
      "      IntegrationTime    Comment1  Comment2    distance  ra_offsets  \\\n",
      "12399            10.0   36.764270       NaN   36.764270    -21.7170   \n",
      "12708            10.0   38.373763       NaN   38.373763      2.1852   \n",
      "12398            10.0   55.802116       NaN   55.802116     48.1860   \n",
      "12709            10.0   76.324154       NaN   76.324154    -67.4922   \n",
      "12707            10.0   80.049771       NaN   80.049771     71.8626   \n",
      "12400            10.0   94.326011       NaN   94.326011    -91.6200   \n",
      "12091            10.0   98.395258       NaN   98.395258      0.3696   \n",
      "13018            10.0  109.654741       NaN  109.654741     25.9338   \n",
      "13019            10.0  114.879430       NaN  114.879430    -43.5198   \n",
      "12397            10.0  119.097253       NaN  119.097253    118.0890   \n",
      "12092            10.0  119.689006       NaN  119.689006    -69.9888   \n",
      "12090            10.0  120.100259       NaN  120.100259     70.7280   \n",
      "12710            10.0  139.521973       NaN  139.521973   -137.1696   \n",
      "13017            10.0  141.835124       NaN  141.835124     95.3874   \n",
      "12706            10.0  143.636866       NaN  143.636866    141.5400   \n",
      "13020            10.0  153.741398       NaN  153.741398   -112.9728   \n",
      "12401            10.0  160.471438       NaN  160.471438   -161.5230   \n",
      "11785            10.0  168.340168       NaN  168.340168    -23.7732   \n",
      "12093            10.0  168.390810       NaN  168.390810   -140.3472   \n",
      "12089            10.0  168.975415       NaN  168.975415    141.0864   \n",
      "11784            10.0  172.837639       NaN  172.837639     46.8150   \n",
      "13330            10.0  176.088679       NaN  176.088679    -19.7004   \n",
      "13329            10.0  181.654059       NaN  181.654059     49.5300   \n",
      "12396            10.0  185.908626       NaN  185.908626    187.9914   \n",
      "11786            10.0  190.277179       NaN  190.277179    -94.3614   \n",
      "13016            10.0  193.587406       NaN  193.587406    164.8404   \n",
      "13331            10.0  195.596259       NaN  195.596259    -88.9314   \n",
      "11783            10.0  202.011585       NaN  202.011585    117.4032   \n",
      "12711            10.0  205.901227       NaN  205.901227   -206.8470   \n",
      "13021            10.0  208.186397       NaN  208.186397   -182.4264   \n",
      "12705            10.0  210.102455       NaN  210.102455    211.2174   \n",
      "13328            10.0  210.311257       NaN  210.311257    118.7610   \n",
      "12094            10.0  227.533168       NaN  227.533168   -210.7056   \n",
      "12402            10.0  227.842792       NaN  227.842792   -231.4260   \n",
      "12088            10.0  228.181803       NaN  228.181803    211.4442   \n",
      "11787            10.0  231.243681       NaN  231.243681   -164.9496   \n",
      "13332            10.0  233.987542       NaN  233.987542   -158.1624   \n",
      "11480            10.0  235.107784       NaN  235.107784     -1.4820   \n",
      "\n",
      "       dec_offsets  ra_degrees  dec_degrees  chip  \n",
      "12399      30.0402   123.81195    -12.84567     1  \n",
      "12708     -38.3142   123.41358    -11.70643     4  \n",
      "12398      30.0402   122.64690    -12.84567     2  \n",
      "12709     -38.3142   124.57487    -11.70643     3  \n",
      "12707     -38.3142   122.25229    -11.70643     4  \n",
      "12400      30.0402   124.97700    -12.84567     1  \n",
      "12091      98.3946   123.44384    -13.98491     2  \n",
      "13018    -106.6686   123.01777    -10.56719     4  \n",
      "13019    -106.6686   124.17533    -10.56719     3  \n",
      "12397      30.0402   121.48185    -12.84567     2  \n",
      "12092      98.3946   124.61648    -13.98491     1  \n",
      "12090      98.3946   122.27120    -13.98491     2  \n",
      "12710     -38.3142   125.73616    -11.70643     3  \n",
      "13017    -106.6686   121.86021    -10.56719     4  \n",
      "12706     -38.3142   121.09100    -11.70643     4  \n",
      "13020    -106.6686   125.33288    -10.56719     3  \n",
      "12401      30.0402   126.14205    -12.84567     1  \n",
      "11785     166.7490   123.84622    -15.12415     1  \n",
      "12093      98.3946   125.78912    -13.98491     1  \n",
      "12089      98.3946   121.09856    -13.98491     2  \n",
      "11784     166.7490   122.66975    -15.12415     2  \n",
      "13330    -175.0230   123.77834     -9.42795     3  \n",
      "13329    -175.0230   122.62450     -9.42795     4  \n",
      "12396      30.0402   120.31681    -12.84567     2  \n",
      "11786     166.7490   125.02269    -15.12415     1  \n",
      "13016    -106.6686   120.70266    -10.56719     4  \n",
      "13331    -175.0230   124.93219     -9.42795     3  \n",
      "11783     166.7490   121.49328    -15.12415     2  \n",
      "12711     -38.3142   126.89745    -11.70643     3  \n",
      "13021    -106.6686   126.49044    -10.56719     3  \n",
      "12705     -38.3142   119.92971    -11.70643     4  \n",
      "13328    -175.0230   121.47065     -9.42795     4  \n",
      "12094      98.3946   126.96176    -13.98491     1  \n",
      "12402      30.0402   127.30710    -12.84567     1  \n",
      "12088      98.3946   119.92593    -13.98491     2  \n",
      "11787     166.7490   126.19916    -15.12415     1  \n",
      "13332    -175.0230   126.08604     -9.42795     3  \n",
      "11480     235.1034   123.47470    -16.26339     1  \n",
      "\n",
      "[38 rows x 26 columns]\n",
      "None\n",
      "      Observer(PI institute)      GridType ObjectType FieldNumber      RA(h:m:s)     DEC(d:m:s)  RAoffset(\")  DECoffset(\")  ROToffset(°) Filter1 Filter2 DitherType  DitherRadius(\")  DitherPhase(°)  DitherTotal  Images  IntegrationTime(s)         PIName            TargetName SpecificTime Priority     Comment\n",
      "12399                   NASA  all_sky_grid        ToO  field12400   08:15:14.868  -12:50:44.412          0.0           0.0           0.0    Open       J     Random               90             0.0           10       1                10.0  NASA_ToO_team  tiled_source_example                  High   36.764270\n",
      "12708                   NASA  all_sky_grid        ToO  field12709  08:13:39.2592  -11:42:23.148          0.0           0.0           0.0    Open       J     Random               90             0.0           10       1                10.0  NASA_ToO_team  tiled_source_example                  High   38.373763\n",
      "12398                   NASA  all_sky_grid        ToO  field12399   08:10:35.256  -12:50:44.412          0.0           0.0           0.0    Open       J     Random               90             0.0           10       1                10.0  NASA_ToO_team  tiled_source_example                  High   55.802116\n",
      "12709                   NASA  all_sky_grid        ToO  field12710  08:18:17.9688  -11:42:23.148          0.0           0.0           0.0    Open       J     Random               90             0.0           10       1                10.0  NASA_ToO_team  tiled_source_example                  High   76.324154\n",
      "12707                   NASA  all_sky_grid        ToO  field12708  08:09:00.5496  -11:42:23.148          0.0           0.0           0.0    Open       J     Random               90             0.0           10       1                10.0  NASA_ToO_team  tiled_source_example                  High   80.049771\n",
      "12400                   NASA  all_sky_grid        ToO  field12401    08:19:54.48  -12:50:44.412          0.0           0.0           0.0    Open       J     Random               90             0.0           10       1                10.0  NASA_ToO_team  tiled_source_example                  High   94.326011\n",
      "12091                   NASA  all_sky_grid        ToO  field12092  08:13:46.5216  -13:59:05.676          0.0           0.0           0.0    Open       J     Random               90             0.0           10       1                10.0  NASA_ToO_team  tiled_source_example                  High   98.395258\n",
      "13018                   NASA  all_sky_grid        ToO  field13019  08:12:04.2648  -10:34:01.884          0.0           0.0           0.0    Open       J     Random               90             0.0           10       1                10.0  NASA_ToO_team  tiled_source_example                  High  109.654741\n",
      "13019                   NASA  all_sky_grid        ToO  field13020  08:16:42.0792  -10:34:01.884          0.0           0.0           0.0    Open       J     Random               90             0.0           10       1                10.0  NASA_ToO_team  tiled_source_example                  High  114.879430\n",
      "12397                   NASA  all_sky_grid        ToO  field12398   08:05:55.644  -12:50:44.412          0.0           0.0           0.0    Open       J     Random               90             0.0           10       1                10.0  NASA_ToO_team  tiled_source_example                  High  119.097253\n",
      "12092                   NASA  all_sky_grid        ToO  field12093  08:18:27.9552  -13:59:05.676          0.0           0.0           0.0    Open       J     Random               90             0.0           10       1                10.0  NASA_ToO_team  tiled_source_example                  High  119.689006\n",
      "12090                   NASA  all_sky_grid        ToO  field12091   08:09:05.088  -13:59:05.676          0.0           0.0           0.0    Open       J     Random               90             0.0           10       1                10.0  NASA_ToO_team  tiled_source_example                  High  120.100259\n",
      "12710                   NASA  all_sky_grid        ToO  field12711  08:22:56.6784  -11:42:23.148          0.0           0.0           0.0    Open       J     Random               90             0.0           10       1                10.0  NASA_ToO_team  tiled_source_example                  High  139.521973\n",
      "13017                   NASA  all_sky_grid        ToO  field13018  08:07:26.4504  -10:34:01.884          0.0           0.0           0.0    Open       J     Random               90             0.0           10       1                10.0  NASA_ToO_team  tiled_source_example                  High  141.835124\n",
      "12706                   NASA  all_sky_grid        ToO  field12707    08:04:21.84  -11:42:23.148          0.0           0.0           0.0    Open       J     Random               90             0.0           10       1                10.0  NASA_ToO_team  tiled_source_example                  High  143.636866\n",
      "13020                   NASA  all_sky_grid        ToO  field13021  08:21:19.8912  -10:34:01.884          0.0           0.0           0.0    Open       J     Random               90             0.0           10       1                10.0  NASA_ToO_team  tiled_source_example                  High  153.741398\n",
      "12401                   NASA  all_sky_grid        ToO  field12402   08:24:34.092  -12:50:44.412          0.0           0.0           0.0    Open       J     Random               90             0.0           10       1                10.0  NASA_ToO_team  tiled_source_example                  High  160.471438\n",
      "11785                   NASA  all_sky_grid        ToO  field11786  08:15:23.0928   -15:07:26.94          0.0           0.0           0.0    Open       J     Random               90             0.0           10       1                10.0  NASA_ToO_team  tiled_source_example                  High  168.340168\n",
      "12093                   NASA  all_sky_grid        ToO  field12094  08:23:09.3888  -13:59:05.676          0.0           0.0           0.0    Open       J     Random               90             0.0           10       1                10.0  NASA_ToO_team  tiled_source_example                  High  168.390810\n",
      "12089                   NASA  all_sky_grid        ToO  field12090  08:04:23.6544  -13:59:05.676          0.0           0.0           0.0    Open       J     Random               90             0.0           10       1                10.0  NASA_ToO_team  tiled_source_example                  High  168.975415\n",
      "11784                   NASA  all_sky_grid        ToO  field11785    08:10:40.74   -15:07:26.94          0.0           0.0           0.0    Open       J     Random               90             0.0           10       1                10.0  NASA_ToO_team  tiled_source_example                  High  172.837639\n",
      "13330                   NASA  all_sky_grid        ToO  field13331  08:15:06.8016   -09:25:40.62          0.0           0.0           0.0    Open       J     Random               90             0.0           10       1                10.0  NASA_ToO_team  tiled_source_example                  High  176.088679\n",
      "13329                   NASA  all_sky_grid        ToO  field13330    08:10:29.88   -09:25:40.62          0.0           0.0           0.0    Open       J     Random               90             0.0           10       1                10.0  NASA_ToO_team  tiled_source_example                  High  181.654059\n",
      "12396                   NASA  all_sky_grid        ToO  field12397  08:01:16.0344  -12:50:44.412          0.0           0.0           0.0    Open       J     Random               90             0.0           10       1                10.0  NASA_ToO_team  tiled_source_example                  High  185.908626\n",
      "11786                   NASA  all_sky_grid        ToO  field11787  08:20:05.4456   -15:07:26.94          0.0           0.0           0.0    Open       J     Random               90             0.0           10       1                10.0  NASA_ToO_team  tiled_source_example                  High  190.277179\n",
      "13016                   NASA  all_sky_grid        ToO  field13017  08:02:48.6384  -10:34:01.884          0.0           0.0           0.0    Open       J     Random               90             0.0           10       1                10.0  NASA_ToO_team  tiled_source_example                  High  193.587406\n",
      "13331                   NASA  all_sky_grid        ToO  field13332  08:19:43.7256   -09:25:40.62          0.0           0.0           0.0    Open       J     Random               90             0.0           10       1                10.0  NASA_ToO_team  tiled_source_example                  High  195.596259\n",
      "11783                   NASA  all_sky_grid        ToO  field11784  08:05:58.3872   -15:07:26.94          0.0           0.0           0.0    Open       J     Random               90             0.0           10       1                10.0  NASA_ToO_team  tiled_source_example                  High  202.011585\n",
      "12711                   NASA  all_sky_grid        ToO  field12712   08:27:35.388  -11:42:23.148          0.0           0.0           0.0    Open       J     Random               90             0.0           10       1                10.0  NASA_ToO_team  tiled_source_example                  High  205.901227\n",
      "13021                   NASA  all_sky_grid        ToO  field13022  08:25:57.7056  -10:34:01.884          0.0           0.0           0.0    Open       J     Random               90             0.0           10       1                10.0  NASA_ToO_team  tiled_source_example                  High  208.186397\n",
      "12705                   NASA  all_sky_grid        ToO  field12706  07:59:43.1304  -11:42:23.148          0.0           0.0           0.0    Open       J     Random               90             0.0           10       1                10.0  NASA_ToO_team  tiled_source_example                  High  210.102455\n",
      "13328                   NASA  all_sky_grid        ToO  field13329   08:05:52.956   -09:25:40.62          0.0           0.0           0.0    Open       J     Random               90             0.0           10       1                10.0  NASA_ToO_team  tiled_source_example                  High  210.311257\n",
      "12094                   NASA  all_sky_grid        ToO  field12095  08:27:50.8224  -13:59:05.676          0.0           0.0           0.0    Open       J     Random               90             0.0           10       1                10.0  NASA_ToO_team  tiled_source_example                  High  227.533168\n",
      "12402                   NASA  all_sky_grid        ToO  field12403   08:29:13.704  -12:50:44.412          0.0           0.0           0.0    Open       J     Random               90             0.0           10       1                10.0  NASA_ToO_team  tiled_source_example                  High  227.842792\n",
      "12088                   NASA  all_sky_grid        ToO  field12089  07:59:42.2232  -13:59:05.676          0.0           0.0           0.0    Open       J     Random               90             0.0           10       1                10.0  NASA_ToO_team  tiled_source_example                  High  228.181803\n",
      "11787                   NASA  all_sky_grid        ToO  field11788  08:24:47.7984   -15:07:26.94          0.0           0.0           0.0    Open       J     Random               90             0.0           10       1                10.0  NASA_ToO_team  tiled_source_example                  High  231.243681\n",
      "13332                   NASA  all_sky_grid        ToO  field13333  08:24:20.6496   -09:25:40.62          0.0           0.0           0.0    Open       J     Random               90             0.0           10       1                10.0  NASA_ToO_team  tiled_source_example                  High  233.987542\n",
      "11480                   NASA  all_sky_grid        ToO  field11481   08:13:53.928  -16:15:48.204          0.0           0.0           0.0    Open       J     Random               90             0.0           10       1                10.0  NASA_ToO_team  tiled_source_example                  High  235.107784\n",
      "Submit tiled_source_example.csv observation file to https://docs.google.com/forms/d/e/1FAIpQLSeXhoZNJcR8_4zFdiFDUNi-Q2kV9oZuTB-PrJUWwrXBZCSgFQ/viewform\n"
     ]
    }
   ],
   "source": [
    "# example for when you want to tile a circular area\n",
    "\n",
    "# point source example with slightly larger error radius\n",
    "\n",
    "ra = 123.45\n",
    "dec = -12.345\n",
    "tile_radius = 4.0  # given in degrees\n",
    "save_name = 'tiled_source_example.csv'\n",
    "generate_observation_csv_ra_dec(ra, dec, save_name, tile_radius=tile_radius)\n"
   ],
   "metadata": {
    "collapsed": false,
    "pycharm": {
     "name": "#%%\n"
    }
   }
  },
  {
   "cell_type": "code",
   "execution_count": null,
   "outputs": [],
   "source": [],
   "metadata": {
    "collapsed": false,
    "pycharm": {
     "name": "#%%\n"
    }
   }
  }
 ],
 "metadata": {
  "kernelspec": {
   "display_name": "Python 3",
   "language": "python",
   "name": "python3"
  },
  "language_info": {
   "codemirror_mode": {
    "name": "ipython",
    "version": 2
   },
   "file_extension": ".py",
   "mimetype": "text/x-python",
   "name": "python",
   "nbconvert_exporter": "python",
   "pygments_lexer": "ipython2",
   "version": "2.7.6"
  }
 },
 "nbformat": 4,
 "nbformat_minor": 0
}